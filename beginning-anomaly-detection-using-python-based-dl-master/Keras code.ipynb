{
 "cells": [
  {
   "cell_type": "code",
   "execution_count": 137,
   "metadata": {},
   "outputs": [],
   "source": [
    "### Sequential model\n",
    "\n",
    "import keras\n",
    "from keras.models import Sequential\n",
    "from keras.layers import Dense\n",
    "\n",
    "seq_model = Sequential()\n",
    "seq_model.add(Dense(16, input_shape=(8,)))\n",
    "seq_model.add(Dense(32, activation='relu'))\n",
    "seq_model.add(Dense(16, activation='softmax'))\n"
   ]
  },
  {
   "cell_type": "code",
   "execution_count": 138,
   "metadata": {},
   "outputs": [],
   "source": [
    "### Functional model\n",
    "\n",
    "import keras\n",
    "from keras.models import Model\n",
    "from keras.layers import Input, Dense\n",
    "\n",
    "input_layer = Input(shape=(8,))\n",
    "dense_1 = Dense(32, activation='relu')(input_layer)\n",
    "output_layer = Dense(16, activation='softmax')(dense_1)\n",
    "\n",
    "func_model = Model(input_layer, output_layer)"
   ]
  },
  {
   "cell_type": "code",
   "execution_count": null,
   "metadata": {},
   "outputs": [],
   "source": [
    "func_model.compile(optimizer=\"\",\n",
    "                   loss=\"\",\n",
    "                   metrics=\"\")"
   ]
  },
  {
   "cell_type": "code",
   "execution_count": null,
   "metadata": {},
   "outputs": [],
   "source": [
    "from keras.callbacks import ModelCheckpoint\n",
    "\n",
    "checkpointer = ModelCheckpoint(filepath=\"saved_model.h5\",\n",
    "                               verbose=0,\n",
    "                               save_best_only=True)"
   ]
  },
  {
   "cell_type": "code",
   "execution_count": null,
   "metadata": {},
   "outputs": [],
   "source": [
    "model.fit(x, y,\n",
    "          batch_size=128,\n",
    "          epochs=25,\n",
    "          verbose=1,\n",
    "          validation_data=(x_t, y_t),\n",
    "          callbacks = [checkpointer])"
   ]
  },
  {
   "cell_type": "code",
   "execution_count": null,
   "metadata": {},
   "outputs": [],
   "source": [
    "model.evaluate(x, y, verbose=0)"
   ]
  },
  {
   "cell_type": "code",
   "execution_count": null,
   "metadata": {},
   "outputs": [],
   "source": [
    "model.predict(x)"
   ]
  },
  {
   "cell_type": "code",
   "execution_count": null,
   "metadata": {},
   "outputs": [],
   "source": [
    "from keras.models import load_model\n",
    "\n",
    "model = load_model('filepath.h5')"
   ]
  },
  {
   "cell_type": "code",
   "execution_count": 139,
   "metadata": {},
   "outputs": [
    {
     "name": "stdout",
     "output_type": "stream",
     "text": [
      "WARNING:tensorflow:From C:\\Users\\Shumpu\\Anaconda2\\envs\\p36\\lib\\site-packages\\keras\\backend\\tensorflow_backend.py:1205: calling reduce_prod (from tensorflow.python.ops.math_ops) with keep_dims is deprecated and will be removed in a future version.\n",
      "Instructions for updating:\n",
      "keep_dims is deprecated, use keepdims instead\n",
      "_________________________________________________________________\n",
      "Layer (type)                 Output Shape              Param #   \n",
      "=================================================================\n",
      "input_3 (InputLayer)         (None, 32, 32, 3)         0         \n",
      "_________________________________________________________________\n",
      "conv2d_1 (Conv2D)            (None, 32, 32, 128)       1664      \n",
      "_________________________________________________________________\n",
      "conv2d_2 (Conv2D)            (None, 32, 32, 128)       65664     \n",
      "_________________________________________________________________\n",
      "flatten_1 (Flatten)          (None, 131072)            0         \n",
      "_________________________________________________________________\n",
      "dense_11 (Dense)             (None, 10)                1310730   \n",
      "=================================================================\n",
      "Total params: 1,378,058\n",
      "Trainable params: 1,378,058\n",
      "Non-trainable params: 0\n",
      "_________________________________________________________________\n"
     ]
    }
   ],
   "source": [
    "\n",
    "import keras\n",
    "from keras.models import Model\n",
    "from keras.layers import Input, Dense, Convolution2D, Flatten\n",
    "\n",
    "input_layer = Input(shape=(32, 32, 3))\n",
    "\n",
    "conv_1 = Convolution2D(128, kernel_size=2, padding='same', activation='relu')(input_layer)\n",
    "\n",
    "conv_2 = Convolution2D(128, kernel_size=2, padding='same', activation='relu')(conv_1)\n",
    "\n",
    "flat_1 = Flatten()(conv_2)\n",
    "\n",
    "classes = Dense(10, activation='softmax')(flat_1)\n",
    "\n",
    "conv_net = Model(input_layer, classes)\n",
    "\n",
    "conv_net.summary()\n",
    "\n",
    "\n",
    "\n"
   ]
  },
  {
   "cell_type": "code",
   "execution_count": 140,
   "metadata": {},
   "outputs": [
    {
     "data": {
      "text/plain": [
       "array([[0., 1., 0., 0., 0., 0.],\n",
       "       [0., 0., 0., 0., 0., 1.],\n",
       "       [0., 0., 0., 0., 1., 0.],\n",
       "       [0., 0., 1., 0., 0., 0.]])"
      ]
     },
     "execution_count": 140,
     "metadata": {},
     "output_type": "execute_result"
    }
   ],
   "source": [
    "y_train = [1, 5, 4, 2]\n",
    "\n",
    "keras.utils.to_categorical(y_train, 6)"
   ]
  },
  {
   "cell_type": "code",
   "execution_count": 141,
   "metadata": {},
   "outputs": [],
   "source": [
    "true = [ 0, 1, 0, 0, 0, 1, 0, 1, 0, 0, 0, 1, 0, 0, 0, 1, 1, 0, 1, 0]\n",
    "pred = [ 1, 1, 0, 0, 1, 1, 0, 0, 0, 0, 0, 0, 1, 0, 0, 0, 1, 0, 1, 1]\n"
   ]
  },
  {
   "cell_type": "code",
   "execution_count": 142,
   "metadata": {},
   "outputs": [
    {
     "data": {
      "text/plain": [
       "0.65"
      ]
     },
     "execution_count": 142,
     "metadata": {},
     "output_type": "execute_result"
    }
   ],
   "source": [
    "import numpy as np\n",
    "np.mean(true == np.round(pred))\n"
   ]
  },
  {
   "cell_type": "code",
   "execution_count": 143,
   "metadata": {},
   "outputs": [
    {
     "data": {
      "text/plain": [
       "0.65"
      ]
     },
     "execution_count": 143,
     "metadata": {},
     "output_type": "execute_result"
    }
   ],
   "source": [
    "count = 0\n",
    "for f in range(0, len(pred)):\n",
    "    if true[f] == pred[f]:\n",
    "        count = count + 1\n",
    "count / len(pred)"
   ]
  },
  {
   "cell_type": "code",
   "execution_count": 144,
   "metadata": {},
   "outputs": [],
   "source": [
    "true = np.array(true)\n",
    "pred = np.array(pred)"
   ]
  },
  {
   "cell_type": "code",
   "execution_count": 145,
   "metadata": {},
   "outputs": [
    {
     "data": {
      "text/plain": [
       "0"
      ]
     },
     "execution_count": 145,
     "metadata": {},
     "output_type": "execute_result"
    }
   ],
   "source": [
    "np.argmax(pred, axis=0)"
   ]
  },
  {
   "cell_type": "code",
   "execution_count": 146,
   "metadata": {},
   "outputs": [
    {
     "data": {
      "text/plain": [
       "0.0"
      ]
     },
     "execution_count": 146,
     "metadata": {},
     "output_type": "execute_result"
    }
   ],
   "source": [
    "np.mean(np.equal(np.max(true, axis=-1), np.float32((np.argmax(pred, axis=-1)))))"
   ]
  },
  {
   "cell_type": "code",
   "execution_count": 147,
   "metadata": {},
   "outputs": [
    {
     "data": {
      "text/plain": [
       "0.0"
      ]
     },
     "execution_count": 147,
     "metadata": {},
     "output_type": "execute_result"
    }
   ],
   "source": [
    "np.mean(np.equal(np.argmax(true, axis=-1), np.argmax(pred, axis=-1)))"
   ]
  },
  {
   "cell_type": "code",
   "execution_count": null,
   "metadata": {},
   "outputs": [],
   "source": [
    "K.mean(K.equal(K.max(y_true, axis=-1),\n",
    "K.cast(K.argmax(y_pred, axis=-1), K.floatx())))"
   ]
  },
  {
   "cell_type": "code",
   "execution_count": 149,
   "metadata": {},
   "outputs": [],
   "source": [
    "from keras.datasets import mnist\n",
    "\n",
    "(x_train, y_train), (x_test, y_test) = mnist.load_data()"
   ]
  },
  {
   "cell_type": "code",
   "execution_count": 150,
   "metadata": {},
   "outputs": [
    {
     "data": {
      "text/plain": [
       "(array([5, 0, 4, ..., 5, 6, 8], dtype=uint8),\n",
       " array([7, 2, 1, ..., 4, 5, 6], dtype=uint8))"
      ]
     },
     "execution_count": 150,
     "metadata": {},
     "output_type": "execute_result"
    }
   ],
   "source": [
    "y_train, y_test"
   ]
  },
  {
   "cell_type": "code",
   "execution_count": 151,
   "metadata": {},
   "outputs": [
    {
     "name": "stderr",
     "output_type": "stream",
     "text": [
      "C:\\Users\\Shumpu\\Anaconda2\\envs\\p36\\lib\\site-packages\\ipykernel_launcher.py:1: DeprecationWarning: elementwise comparison failed; this will raise an error in the future.\n",
      "  \"\"\"Entry point for launching an IPython kernel.\n"
     ]
    },
    {
     "data": {
      "text/plain": [
       "False"
      ]
     },
     "execution_count": 151,
     "metadata": {},
     "output_type": "execute_result"
    }
   ],
   "source": [
    "y_train == y_test"
   ]
  },
  {
   "cell_type": "code",
   "execution_count": null,
   "metadata": {},
   "outputs": [],
   "source": [
    "import keras.backend as K\n",
    "\n",
    "def custom_metric(y_true, y_pred):\n",
    "    matches = K.equal(y_true, K.round(y_pred))\n",
    "    score = K.mean(matches)\n",
    "    return  score\n",
    "\n",
    "model.compile(optimizer='optimizer',\n",
    "              loss='loss_function',\n",
    "              metrics=['accuracy', custom_metric])"
   ]
  },
  {
   "cell_type": "code",
   "execution_count": 29,
   "metadata": {
    "scrolled": false
   },
   "outputs": [
    {
     "data": {
      "image/png": "[encoded data removed]",
      "text/plain": [
       "<Figure size 1080x720 with 1 Axes>"
      ]
     },
     "metadata": {},
     "output_type": "display_data"
    }
   ],
   "source": [
    "import matplotlib.pyplot as plt\n",
    "import numpy as np\n",
    "%matplotlib inline\n",
    "import math\n",
    "\n",
    "def sigmoid(x):\n",
    "    a = []\n",
    "    for item in x:\n",
    "        a.append(1/(1+math.exp(-item)))\n",
    "    return a\n",
    "\n",
    "x = np.arange(-10., 10., 0.2)\n",
    "\n",
    "\n",
    "\n",
    "sig = sigmoid(x)\n",
    "plt.figure(figsize=(15, 10))\n",
    "plt.plot(x, sig)\n",
    "plt.yticks([0.0, 0.5, 1.0])\n",
    "\n",
    "plt.axvline(x=0.0, linestyle = '--', color='black', linewidth=0.8)\n",
    "\n",
    "plt.axhline(y=0.0, linestyle = '--', color='black', linewidth=0.8)\n",
    "plt.axhline(y=0.5, linestyle = '--', color='black', linewidth=0.8)\n",
    "plt.axhline(y=1.0, linestyle = '--', color='black', linewidth=0.8)\n",
    "\n",
    "\n",
    "plt.show()\n",
    "    "
   ]
  },
  {
   "cell_type": "code",
   "execution_count": 125,
   "metadata": {},
   "outputs": [
    {
     "name": "stdout",
     "output_type": "stream",
     "text": [
      "Tensor(\"Placeholder_62:0\", shape=(1, 2, 3), dtype=float32)\n",
      "<tf.Variable 'Variable_65:0' shape=(6,) dtype=float32_ref>\n"
     ]
    }
   ],
   "source": [
    "import keras.backend as K\n",
    "\n",
    "#Declaring a placeholder\n",
    "a = K.placeholder(shape=(1,2,3)) # Equivalent to tf.placeholder()\n",
    "print(a)\n",
    "\n",
    "vals = [0, 1, 2, 3, 4, 5]\n",
    "b = K.variable(value=vals) # Equivalent to tf.Variable()\n",
    "print(b)"
   ]
  },
  {
   "cell_type": "code",
   "execution_count": 126,
   "metadata": {},
   "outputs": [
    {
     "name": "stdout",
     "output_type": "stream",
     "text": [
      "Tensor(\"MatMul_13:0\", shape=(1, 5), dtype=float32)\n"
     ]
    }
   ],
   "source": [
    "import keras.backend as K\n",
    "\n",
    "c = K.placeholder(shape=(1, 2))\n",
    "d = K.placeholder(shape=(2, 5))\n",
    "\n",
    "print(K.dot(c, d))"
   ]
  },
  {
   "cell_type": "code",
   "execution_count": 134,
   "metadata": {},
   "outputs": [
    {
     "name": "stdout",
     "output_type": "stream",
     "text": [
      "Tensor(\"Sum_7:0\", shape=(2,), dtype=float32)\n",
      "Tensor(\"Sum_8:0\", shape=(1,), dtype=float32)\n"
     ]
    }
   ],
   "source": [
    "print(K.sum(c, axis=0))\n",
    "print(K.sum(c, axis=1))"
   ]
  },
  {
   "cell_type": "code",
   "execution_count": 136,
   "metadata": {},
   "outputs": [
    {
     "name": "stdout",
     "output_type": "stream",
     "text": [
      "Tensor(\"Mean_1:0\", shape=(2,), dtype=float32)\n"
     ]
    }
   ],
   "source": [
    "print(K.mean(c, axis=0))"
   ]
  },
  {
   "cell_type": "code",
   "execution_count": 12,
   "metadata": {},
   "outputs": [],
   "source": [
    "######### Tensorboard\n",
    "\n",
    "import tensorflow as tf\n",
    "import keras\n",
    "from keras.models import Model, Sequential\n",
    "from keras.layers import Input, Dense, Conv2D, Flatten, MaxPooling2D, Dropout\n",
    "import keras.backend as K\n",
    "\n",
    "batch_size = 128\n",
    "n_classes = 10\n",
    "n_epochs = 15\n",
    "\n",
    "im_row, im_col = 28, 28\n",
    "\n",
    "\n",
    "(x_train, y_train), (x_test, y_test) = keras.datasets.mnist.load_data()\n",
    "\n",
    "\n",
    "if K.image_data_format() == 'channels_first':\n",
    "    x_train = x_train.reshape(x_train.shape[0], 1, im_row, im_col)\n",
    "    x_test = x_test.reshape(x_test.shape[0], 1, im_row, im_col)\n",
    "    input_shape = (1, im_row, im_col)\n",
    "else:\n",
    "    x_train = x_train.reshape(x_train.shape[0], im_row, im_col, 1)\n",
    "    x_test = x_test.reshape(x_test.shape[0], im_row, im_col, 1)\n",
    "    input_shape = (im_row, im_col, 1)\n",
    "    \n",
    "x_train = x_train.astype('float32')\n",
    "x_test = x_test.astype('float32')\n",
    "x_train /= 255\n",
    "x_test /= 255\n",
    "\n",
    "y_train = keras.utils.to_categorical(y_train, n_classes)\n",
    "y_test = keras.utils.to_categorical(y_test, n_classes)"
   ]
  },
  {
   "cell_type": "code",
   "execution_count": 13,
   "metadata": {},
   "outputs": [
    {
     "name": "stdout",
     "output_type": "stream",
     "text": [
      "WARNING:tensorflow:From C:\\Users\\Shumpu\\Anaconda2\\envs\\p36\\lib\\site-packages\\keras\\backend\\tensorflow_backend.py:1205: calling reduce_prod (from tensorflow.python.ops.math_ops) with keep_dims is deprecated and will be removed in a future version.\n",
      "Instructions for updating:\n",
      "keep_dims is deprecated, use keepdims instead\n",
      "WARNING:tensorflow:From C:\\Users\\Shumpu\\Anaconda2\\envs\\p36\\lib\\site-packages\\keras\\backend\\tensorflow_backend.py:2755: calling reduce_sum (from tensorflow.python.ops.math_ops) with keep_dims is deprecated and will be removed in a future version.\n",
      "Instructions for updating:\n",
      "keep_dims is deprecated, use keepdims instead\n",
      "WARNING:tensorflow:From C:\\Users\\Shumpu\\Anaconda2\\envs\\p36\\lib\\site-packages\\keras\\backend\\tensorflow_backend.py:1290: calling reduce_mean (from tensorflow.python.ops.math_ops) with keep_dims is deprecated and will be removed in a future version.\n",
      "Instructions for updating:\n",
      "keep_dims is deprecated, use keepdims instead\n",
      "_________________________________________________________________\n",
      "Layer (type)                 Output Shape              Param #   \n",
      "=================================================================\n",
      "conv2d_5 (Conv2D)            (None, 26, 26, 32)        320       \n",
      "_________________________________________________________________\n",
      "conv2d_6 (Conv2D)            (None, 24, 24, 64)        18496     \n",
      "_________________________________________________________________\n",
      "max_pooling2d_2 (MaxPooling2 (None, 12, 12, 64)        0         \n",
      "_________________________________________________________________\n",
      "dropout_1 (Dropout)          (None, 12, 12, 64)        0         \n",
      "_________________________________________________________________\n",
      "flatten_1 (Flatten)          (None, 9216)              0         \n",
      "_________________________________________________________________\n",
      "dense_1 (Dense)              (None, 128)               1179776   \n",
      "_________________________________________________________________\n",
      "dropout_2 (Dropout)          (None, 128)               0         \n",
      "_________________________________________________________________\n",
      "dense_2 (Dense)              (None, 10)                1290      \n",
      "=================================================================\n",
      "Total params: 1,199,882\n",
      "Trainable params: 1,199,882\n",
      "Non-trainable params: 0\n",
      "_________________________________________________________________\n"
     ]
    }
   ],
   "source": [
    "model = Sequential()\n",
    "model.add(Conv2D(32, kernel_size=(3, 3),\n",
    "                 activation='relu',\n",
    "                 input_shape=input_shape))\n",
    "model.add(Conv2D(64, (3, 3), activation='relu'))\n",
    "model.add(MaxPooling2D(pool_size=(2, 2)))\n",
    "model.add(Dropout(0.25))\n",
    "model.add(Flatten())\n",
    "model.add(Dense(128, activation='relu'))\n",
    "model.add(Dropout(0.5))\n",
    "model.add(Dense(n_classes, activation='softmax'))\n",
    "\n",
    "model.compile(loss=keras.losses.categorical_crossentropy,\n",
    "              optimizer=keras.optimizers.Adam(),\n",
    "              metrics=['accuracy'])\n",
    "\n",
    "model.summary()"
   ]
  },
  {
   "cell_type": "code",
   "execution_count": 15,
   "metadata": {},
   "outputs": [
    {
     "name": "stdout",
     "output_type": "stream",
     "text": [
      "Train on 60000 samples, validate on 10000 samples\n",
      "Epoch 1/15\n",
      "60000/60000 [==============================] - 11s - loss: 0.2347 - acc: 0.9289 - val_loss: 0.0475 - val_acc: 0.9840\n",
      "Epoch 2/15\n",
      "60000/60000 [==============================] - 7s - loss: 0.0819 - acc: 0.9750 - val_loss: 0.0380 - val_acc: 0.9870\n",
      "Epoch 3/15\n",
      "60000/60000 [==============================] - 8s - loss: 0.0640 - acc: 0.9807 - val_loss: 0.0326 - val_acc: 0.9895TA: 1s - loss: 0.0636 - acc: 0. - ETA: 1s - loss: 0.0638 - acc: 0.981 - ETA: 1s - loss: \n",
      "Epoch 4/15\n",
      "60000/60000 [==============================] - 7s - loss: 0.0524 - acc: 0.9835 - val_loss: 0.0301 - val_acc: 0.9893\n",
      "Epoch 5/15\n",
      "60000/60000 [==============================] - 7s - loss: 0.0450 - acc: 0.9865 - val_loss: 0.0313 - val_acc: 0.9900\n",
      "Epoch 6/15\n",
      "60000/60000 [==============================] - 7s - loss: 0.0384 - acc: 0.9882 - val_loss: 0.0279 - val_acc: 0.9929\n",
      "Epoch 7/15\n",
      "60000/60000 [==============================] - 7s - loss: 0.0337 - acc: 0.9891 - val_loss: 0.0271 - val_acc: 0.9913\n",
      "Epoch 8/15\n",
      "60000/60000 [==============================] - 7s - loss: 0.0301 - acc: 0.9902 - val_loss: 0.0249 - val_acc: 0.99230\n",
      "Epoch 9/15\n",
      "60000/60000 [==============================] - 7s - loss: 0.0291 - acc: 0.9910 - val_loss: 0.0269 - val_acc: 0.9914\n",
      "Epoch 10/15\n",
      "60000/60000 [==============================] - 7s - loss: 0.0241 - acc: 0.9920 - val_loss: 0.0275 - val_acc: 0.9916\n",
      "Epoch 11/15\n",
      "60000/60000 [==============================] - 7s - loss: 0.0233 - acc: 0.9926 - val_loss: 0.0278 - val_acc: 0.9920\n",
      "Epoch 12/15\n",
      "60000/60000 [==============================] - 7s - loss: 0.0231 - acc: 0.9925 - val_loss: 0.0289 - val_acc: 0.99150.992\n",
      "Epoch 13/15\n",
      "60000/60000 [==============================] - 7s - loss: 0.0198 - acc: 0.9935 - val_loss: 0.0281 - val_acc: 0.9920\n",
      "Epoch 14/15\n",
      "60000/60000 [==============================] - 8s - loss: 0.0184 - acc: 0.9941 - val_loss: 0.0294 - val_acc: 0.9925\n",
      "Epoch 15/15\n",
      "60000/60000 [==============================] - 8s - loss: 0.0170 - acc: 0.9945 - val_loss: 0.0287 - val_acc: 0.9925\n",
      "Test loss: 0.028672498076589635\n",
      "Test accuracy: 0.9925\n"
     ]
    }
   ],
   "source": [
    "tensorboard = keras.callbacks.TensorBoard(log_dir='./Graph', histogram_freq=0,  \n",
    "          write_graph=True, write_images=True)\n",
    "\n",
    "checkpoint = keras.callbacks.ModelCheckpoint(filepath=\"keras_MNIST_CNN.h5\",\n",
    "                               verbose=0,\n",
    "                               save_best_only=True)\n",
    "\n",
    "model.fit(x_train, y_train,\n",
    "          batch_size=batch_size,\n",
    "          epochs=n_epochs,\n",
    "          verbose=1,\n",
    "          validation_data=(x_test, y_test),\n",
    "          callbacks=[checkpoint, tensorboard])\n",
    "\n",
    "score = model.evaluate(x_test, y_test, verbose=0)\n",
    "print('Test loss:', score[0])\n",
    "print('Test accuracy:', score[1])"
   ]
  },
  {
   "cell_type": "code",
   "execution_count": null,
   "metadata": {},
   "outputs": [],
   "source": []
  }
 ],
 "metadata": {
  "kernelspec": {
   "display_name": "python36",
   "language": "python",
   "name": "python36"
  },
  "language_info": {
   "codemirror_mode": {
    "name": "ipython",
    "version": 3
   },
   "file_extension": ".py",
   "mimetype": "text/x-python",
   "name": "python",
   "nbconvert_exporter": "python",
   "pygments_lexer": "ipython3",
   "version": "3.6.5"
  }
 },
 "nbformat": 4,
 "nbformat_minor": 2
}
