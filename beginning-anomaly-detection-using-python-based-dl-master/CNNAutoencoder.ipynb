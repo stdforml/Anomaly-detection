{
 "cells": [
  {
   "cell_type": "code",
   "execution_count": 1,
   "metadata": {
    "scrolled": true
   },
   "outputs": [
    {
     "name": "stderr",
     "output_type": "stream",
     "text": [
      "Using TensorFlow backend.\n"
     ]
    },
    {
     "name": "stdout",
     "output_type": "stream",
     "text": [
      "Python:  3.7.3 (default, Apr 24 2019, 15:29:51) [MSC v.1915 64 bit (AMD64)]\n",
      "pandas:  0.24.2\n",
      "numpy:  1.16.4\n",
      "seaborn:  0.9.0\n",
      "matplotlib:  3.1.0\n",
      "sklearn:  0.21.2\n",
      "Keras:  2.2.4\n",
      "Tensorflow:  1.13.1\n"
     ]
    }
   ],
   "source": [
    "import keras\n",
    "from keras import optimizers\n",
    "from keras import losses\n",
    "from keras.models import Sequential, Model\n",
    "from keras.layers import Dense, Input, Dropout, Embedding, LSTM\n",
    "from keras.optimizers import RMSprop, Adam, Nadam\n",
    "from keras.preprocessing import sequence\n",
    "from keras.callbacks import TensorBoard\n",
    "from keras import regularizers\n",
    "\n",
    "import sklearn\n",
    "from sklearn.preprocessing import StandardScaler\n",
    "from sklearn.model_selection import train_test_split\n",
    "from sklearn.metrics import confusion_matrix, roc_auc_score\n",
    "from sklearn.preprocessing import MinMaxScaler\n",
    "\n",
    "import seaborn as sns\n",
    "import pandas as pd\n",
    "import numpy as np\n",
    "import matplotlib\n",
    "\n",
    "import matplotlib.pyplot as plt\n",
    "import matplotlib.gridspec as gridspec\n",
    "%matplotlib inline\n",
    "\n",
    "import tensorflow \n",
    "import sys\n",
    "print(\"Python: \", sys.version)\n",
    "\n",
    "print(\"pandas: \", pd.__version__)\n",
    "print(\"numpy: \", np.__version__)\n",
    "print(\"seaborn: \", sns.__version__)\n",
    "print(\"matplotlib: \", matplotlib.__version__)\n",
    "print(\"sklearn: \", sklearn.__version__)\n",
    "print(\"Keras: \", keras.__version__)\n",
    "print(\"Tensorflow: \", tensorflow.__version__)\n",
    "\n"
   ]
  },
  {
   "cell_type": "code",
   "execution_count": 2,
   "metadata": {},
   "outputs": [],
   "source": [
    "from keras.datasets import mnist\n",
    "import numpy as np\n",
    "(x_train, _), (x_test, _) = mnist.load_data()"
   ]
  },
  {
   "cell_type": "code",
   "execution_count": 3,
   "metadata": {},
   "outputs": [],
   "source": [
    "from keras.datasets import mnist\n",
    "import numpy as np\n",
    "\n",
    "(x_train, _), (x_test, y_test) = mnist.load_data()\n",
    "\n",
    "x_train = x_train.astype('float32') / 255.\n",
    "x_test = x_test.astype('float32') / 255.\n",
    "x_train = np.reshape(x_train, (len(x_train), 28, 28, 1))  # adapt this if using `channels_first` image data format\n",
    "x_test = np.reshape(x_test, (len(x_test), 28, 28, 1))  # adapt this if using `channels_first` image data format"
   ]
  },
  {
   "cell_type": "code",
   "execution_count": 4,
   "metadata": {},
   "outputs": [
    {
     "name": "stdout",
     "output_type": "stream",
     "text": [
      "WARNING:tensorflow:From C:\\ProgramData\\Anaconda3\\lib\\site-packages\\tensorflow\\python\\framework\\op_def_library.py:263: colocate_with (from tensorflow.python.framework.ops) is deprecated and will be removed in a future version.\n",
      "Instructions for updating:\n",
      "Colocations handled automatically by placer.\n",
      "_________________________________________________________________\n",
      "Layer (type)                 Output Shape              Param #   \n",
      "=================================================================\n",
      "input_1 (InputLayer)         (None, 28, 28, 1)         0         \n",
      "_________________________________________________________________\n",
      "conv2d_1 (Conv2D)            (None, 28, 28, 16)        160       \n",
      "_________________________________________________________________\n",
      "max_pooling2d_1 (MaxPooling2 (None, 14, 14, 16)        0         \n",
      "_________________________________________________________________\n",
      "conv2d_2 (Conv2D)            (None, 14, 14, 8)         1160      \n",
      "_________________________________________________________________\n",
      "max_pooling2d_2 (MaxPooling2 (None, 7, 7, 8)           0         \n",
      "_________________________________________________________________\n",
      "conv2d_3 (Conv2D)            (None, 7, 7, 8)           584       \n",
      "_________________________________________________________________\n",
      "max_pooling2d_3 (MaxPooling2 (None, 4, 4, 8)           0         \n",
      "_________________________________________________________________\n",
      "conv2d_4 (Conv2D)            (None, 4, 4, 8)           584       \n",
      "_________________________________________________________________\n",
      "up_sampling2d_1 (UpSampling2 (None, 8, 8, 8)           0         \n",
      "_________________________________________________________________\n",
      "conv2d_5 (Conv2D)            (None, 8, 8, 8)           584       \n",
      "_________________________________________________________________\n",
      "up_sampling2d_2 (UpSampling2 (None, 16, 16, 8)         0         \n",
      "_________________________________________________________________\n",
      "conv2d_6 (Conv2D)            (None, 14, 14, 16)        1168      \n",
      "_________________________________________________________________\n",
      "up_sampling2d_3 (UpSampling2 (None, 28, 28, 16)        0         \n",
      "_________________________________________________________________\n",
      "conv2d_7 (Conv2D)            (None, 28, 28, 1)         145       \n",
      "=================================================================\n",
      "Total params: 4,385\n",
      "Trainable params: 4,385\n",
      "Non-trainable params: 0\n",
      "_________________________________________________________________\n"
     ]
    }
   ],
   "source": [
    "from keras.layers import Input, Dense, Conv2D, MaxPooling2D, UpSampling2D\n",
    "from keras.models import Model\n",
    "from keras import backend as K\n",
    "\n",
    "#cnn autoencoder\n",
    "logfilename = \"cnnautoencoder2\"\n",
    "\n",
    "input_img = Input(shape=(28, 28, 1))  # adapt this if using `channels_first` image data format\n",
    "\n",
    "x = Conv2D(16, (3, 3), activation='relu', padding='same')(input_img)\n",
    "x = MaxPooling2D((2, 2), padding='same')(x)\n",
    "x = Conv2D(8, (3, 3), activation='relu', padding='same')(x)\n",
    "x = MaxPooling2D((2, 2), padding='same')(x)\n",
    "x = Conv2D(8, (3, 3), activation='relu', padding='same')(x)\n",
    "encoded = MaxPooling2D((2, 2), padding='same')(x)\n",
    "\n",
    "# at this point the representation is (4, 4, 8) i.e. 128-dimensional\n",
    "\n",
    "x = Conv2D(8, (3, 3), activation='relu', padding='same')(encoded)\n",
    "x = UpSampling2D((2, 2))(x)\n",
    "x = Conv2D(8, (3, 3), activation='relu', padding='same')(x)\n",
    "x = UpSampling2D((2, 2))(x)\n",
    "x = Conv2D(16, (3, 3), activation='relu')(x)\n",
    "x = UpSampling2D((2, 2))(x)\n",
    "decoded = Conv2D(1, (3, 3), activation='sigmoid', padding='same')(x)\n",
    "\n",
    "autoencoder = Model(input_img, decoded)\n",
    "\n",
    "\n",
    "autoencoder.summary()"
   ]
  },
  {
   "cell_type": "code",
   "execution_count": 5,
   "metadata": {},
   "outputs": [],
   "source": [
    "autoencoder.compile(optimizer=RMSprop(), \n",
    "                    loss='mean_squared_error',\n",
    "                    metrics=['mae', 'accuracy'])"
   ]
  },
  {
   "cell_type": "code",
   "execution_count": 6,
   "metadata": {},
   "outputs": [
    {
     "name": "stdout",
     "output_type": "stream",
     "text": [
      "WARNING:tensorflow:From C:\\ProgramData\\Anaconda3\\lib\\site-packages\\tensorflow\\python\\ops\\math_ops.py:3066: to_int32 (from tensorflow.python.ops.math_ops) is deprecated and will be removed in a future version.\n",
      "Instructions for updating:\n",
      "Use tf.cast instead.\n",
      "Train on 60000 samples, validate on 10000 samples\n",
      "Epoch 1/20\n",
      "60000/60000 [==============================] - 17s 277us/step - loss: 0.0331 - mean_absolute_error: 0.0803 - acc: 0.8014 - val_loss: 0.0227 - val_mean_absolute_error: 0.0593 - val_acc: 0.8083\n",
      "Epoch 2/20\n",
      "60000/60000 [==============================] - 13s 211us/step - loss: 0.0214 - mean_absolute_error: 0.0565 - acc: 0.8076 - val_loss: 0.0181 - val_mean_absolute_error: 0.0511 - val_acc: 0.8075\n",
      "Epoch 3/20\n",
      "60000/60000 [==============================] - 13s 210us/step - loss: 0.0186 - mean_absolute_error: 0.0510 - acc: 0.8093 - val_loss: 0.0177 - val_mean_absolute_error: 0.0485 - val_acc: 0.8103\n",
      "Epoch 4/20\n",
      "60000/60000 [==============================] - 12s 202us/step - loss: 0.0168 - mean_absolute_error: 0.0476 - acc: 0.8103 - val_loss: 0.0166 - val_mean_absolute_error: 0.0467 - val_acc: 0.8072\n",
      "Epoch 5/20\n",
      "60000/60000 [==============================] - 12s 199us/step - loss: 0.0156 - mean_absolute_error: 0.0453 - acc: 0.8109 - val_loss: 0.0156 - val_mean_absolute_error: 0.0442 - val_acc: 0.8117\n",
      "Epoch 6/20\n",
      "60000/60000 [==============================] - 13s 215us/step - loss: 0.0148 - mean_absolute_error: 0.0437 - acc: 0.8114 - val_loss: 0.0159 - val_mean_absolute_error: 0.0457 - val_acc: 0.8086\n",
      "Epoch 7/20\n",
      "60000/60000 [==============================] - 13s 219us/step - loss: 0.0142 - mean_absolute_error: 0.0425 - acc: 0.8117 - val_loss: 0.0137 - val_mean_absolute_error: 0.0413 - val_acc: 0.8096\n",
      "Epoch 8/20\n",
      "60000/60000 [==============================] - 13s 211us/step - loss: 0.0137 - mean_absolute_error: 0.0416 - acc: 0.8120 - val_loss: 0.0129 - val_mean_absolute_error: 0.0406 - val_acc: 0.8105\n",
      "Epoch 9/20\n",
      "60000/60000 [==============================] - 13s 213us/step - loss: 0.0134 - mean_absolute_error: 0.0408 - acc: 0.8122 - val_loss: 0.0138 - val_mean_absolute_error: 0.0420 - val_acc: 0.8095\n",
      "Epoch 10/20\n",
      "60000/60000 [==============================] - 12s 197us/step - loss: 0.0130 - mean_absolute_error: 0.0402 - acc: 0.8123 - val_loss: 0.0120 - val_mean_absolute_error: 0.0380 - val_acc: 0.8121\n",
      "Epoch 11/20\n",
      "60000/60000 [==============================] - 12s 202us/step - loss: 0.0128 - mean_absolute_error: 0.0397 - acc: 0.8124 - val_loss: 0.0123 - val_mean_absolute_error: 0.0379 - val_acc: 0.8123\n",
      "Epoch 12/20\n",
      "60000/60000 [==============================] - 12s 204us/step - loss: 0.0125 - mean_absolute_error: 0.0392 - acc: 0.8126 - val_loss: 0.0112 - val_mean_absolute_error: 0.0367 - val_acc: 0.8121\n",
      "Epoch 13/20\n",
      "60000/60000 [==============================] - 12s 207us/step - loss: 0.0123 - mean_absolute_error: 0.0387 - acc: 0.8127 - val_loss: 0.0115 - val_mean_absolute_error: 0.0378 - val_acc: 0.8117\n",
      "Epoch 14/20\n",
      "60000/60000 [==============================] - 12s 199us/step - loss: 0.0121 - mean_absolute_error: 0.0383 - acc: 0.8127 - val_loss: 0.0123 - val_mean_absolute_error: 0.0387 - val_acc: 0.8126\n",
      "Epoch 15/20\n",
      "60000/60000 [==============================] - 12s 203us/step - loss: 0.0120 - mean_absolute_error: 0.0380 - acc: 0.8128 - val_loss: 0.0122 - val_mean_absolute_error: 0.0388 - val_acc: 0.8109\n",
      "Epoch 16/20\n",
      "60000/60000 [==============================] - 12s 206us/step - loss: 0.0119 - mean_absolute_error: 0.0377 - acc: 0.8128 - val_loss: 0.0107 - val_mean_absolute_error: 0.0355 - val_acc: 0.8125\n",
      "Epoch 17/20\n",
      "60000/60000 [==============================] - 13s 209us/step - loss: 0.0117 - mean_absolute_error: 0.0374 - acc: 0.8129 - val_loss: 0.0108 - val_mean_absolute_error: 0.0361 - val_acc: 0.8121\n",
      "Epoch 18/20\n",
      "60000/60000 [==============================] - 12s 203us/step - loss: 0.0116 - mean_absolute_error: 0.0372 - acc: 0.8129 - val_loss: 0.0119 - val_mean_absolute_error: 0.0372 - val_acc: 0.8107\n",
      "Epoch 19/20\n",
      "60000/60000 [==============================] - 12s 203us/step - loss: 0.0115 - mean_absolute_error: 0.0370 - acc: 0.8130 - val_loss: 0.0112 - val_mean_absolute_error: 0.0361 - val_acc: 0.8127\n",
      "Epoch 20/20\n",
      "60000/60000 [==============================] - 13s 209us/step - loss: 0.0114 - mean_absolute_error: 0.0367 - acc: 0.8130 - val_loss: 0.0109 - val_mean_absolute_error: 0.0356 - val_acc: 0.8129\n"
     ]
    }
   ],
   "source": [
    "batch_size = 32\n",
    "epochs = 20\n",
    "\n",
    "history = autoencoder.fit(x_train, x_train,\n",
    "                    batch_size=batch_size,\n",
    "                    epochs=epochs,\n",
    "                    verbose=1,\n",
    "                    shuffle=True,\n",
    "                    validation_data=(x_test, x_test),\n",
    "                    callbacks=[TensorBoard(log_dir='../logs/{0}'.format(logfilename))])\n"
   ]
  },
  {
   "cell_type": "code",
   "execution_count": 7,
   "metadata": {},
   "outputs": [
    {
     "name": "stdout",
     "output_type": "stream",
     "text": [
      "10000/10000 [==============================] - 1s 63us/step\n",
      "Test loss: 0.010891408310830594\n",
      "Test accuracy: 0.03555414552688599\n"
     ]
    }
   ],
   "source": [
    "score = autoencoder.evaluate(x_test, x_test, verbose=1)\n",
    "print('Test loss:', score[0])\n",
    "print('Test accuracy:', score[1])"
   ]
  },
  {
   "cell_type": "code",
   "execution_count": 8,
   "metadata": {},
   "outputs": [
    {
     "data": {
      "image/png": "[encoded data removed]",
      "text/plain": [
       "<Figure size 1440x288 with 18 Axes>"
      ]
     },
     "metadata": {
      "needs_background": "light"
     },
     "output_type": "display_data"
    }
   ],
   "source": [
    "decoded_imgs = autoencoder.predict(x_test)\n",
    "\n",
    "n = 10\n",
    "plt.figure(figsize=(20, 4))\n",
    "for i in range(1, n):\n",
    "    # display original\n",
    "    ax = plt.subplot(2, n, i)\n",
    "    plt.imshow(x_test[i].reshape(28, 28))\n",
    "    plt.gray()\n",
    "    ax.get_xaxis().set_visible(False)\n",
    "    ax.get_yaxis().set_visible(False)\n",
    "\n",
    "    # display reconstruction\n",
    "    ax = plt.subplot(2, n, i + n)\n",
    "    plt.imshow(decoded_imgs[i].reshape(28, 28))\n",
    "    plt.gray()\n",
    "    ax.get_xaxis().set_visible(False)\n",
    "    ax.get_yaxis().set_visible(False)\n",
    "plt.show()"
   ]
  },
  {
   "cell_type": "code",
   "execution_count": 9,
   "metadata": {},
   "outputs": [
    {
     "data": {
      "image/png": "[encoded data removed]",
      "text/plain": [
       "<Figure size 1440x576 with 9 Axes>"
      ]
     },
     "metadata": {
      "needs_background": "light"
     },
     "output_type": "display_data"
    }
   ],
   "source": [
    "encoder = Model(input_img, encoded)\n",
    "encoded_imgs = encoder.predict(x_test)\n",
    "n = 10\n",
    "plt.figure(figsize=(20, 8))\n",
    "for i in range(1, n):\n",
    "    ax = plt.subplot(1, n, i)\n",
    "    plt.imshow(encoded_imgs[i].reshape(4, 4 * 8).T)\n",
    "    plt.gray()\n",
    "    ax.get_xaxis().set_visible(False)\n",
    "    ax.get_yaxis().set_visible(False)\n",
    "plt.show()"
   ]
  },
  {
   "cell_type": "code",
   "execution_count": null,
   "metadata": {},
   "outputs": [],
   "source": []
  },
  {
   "cell_type": "code",
   "execution_count": null,
   "metadata": {},
   "outputs": [],
   "source": []
  },
  {
   "cell_type": "code",
   "execution_count": null,
   "metadata": {},
   "outputs": [],
   "source": []
  }
 ],
 "metadata": {
  "kernelspec": {
   "display_name": "Python 3",
   "language": "python",
   "name": "python3"
  },
  "language_info": {
   "codemirror_mode": {
    "name": "ipython",
    "version": 3
   },
   "file_extension": ".py",
   "mimetype": "text/x-python",
   "name": "python",
   "nbconvert_exporter": "python",
   "pygments_lexer": "ipython3",
   "version": "3.7.3"
  }
 },
 "nbformat": 4,
 "nbformat_minor": 2
}
